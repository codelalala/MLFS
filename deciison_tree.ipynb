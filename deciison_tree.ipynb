{
  "nbformat": 4,
  "nbformat_minor": 0,
  "metadata": {
    "colab": {
      "name": "deciison_tree.ipynb",
      "provenance": [],
      "authorship_tag": "ABX9TyMPM0BmuuqCVmyFItNpDpSH",
      "include_colab_link": true
    },
    "kernelspec": {
      "name": "python3",
      "display_name": "Python 3"
    },
    "language_info": {
      "name": "python"
    }
  },
  "cells": [
    {
      "cell_type": "markdown",
      "metadata": {
        "id": "view-in-github",
        "colab_type": "text"
      },
      "source": [
        "<a href=\"https://colab.research.google.com/github/codelalala/MLFS/blob/main/deciison_tree.ipynb\" target=\"_parent\"><img src=\"https://colab.research.google.com/assets/colab-badge.svg\" alt=\"Open In Colab\"/></a>"
      ]
    },
    {
      "cell_type": "code",
      "metadata": {
        "id": "9ZDvXo_zcEBR"
      },
      "source": [
        "from sklearn import datasets\n",
        "from matplotlib import pyplot as plt\n",
        "import math"
      ],
      "execution_count": null,
      "outputs": []
    },
    {
      "cell_type": "code",
      "metadata": {
        "id": "xbJ2njAdcMoy"
      },
      "source": [
        "data=datasets.load_iris()\n",
        "label_set=set(data['target'])\n",
        "feature_names=data['feature_names']\n",
        "labels=data['target']\n",
        "data=data['data'].tolist()\n",
        "data=[tuple(data[i]) for i in range(len(data))]\n",
        "labels={data[i]:labels[i] for i in range(len(data))}\n",
        "feature_set=set([i for i in range(len(feature_names))])"
      ],
      "execution_count": null,
      "outputs": []
    },
    {
      "cell_type": "code",
      "metadata": {
        "id": "h_TiFcuHcSUJ"
      },
      "source": [
        "def entropy(segment):\n",
        "    base=0\n",
        "    for label in label_set:\n",
        "        selected=[x for x in segment if labels[x]==label]\n",
        "        if selected:\n",
        "            prob=len(selected)/len(segment)\n",
        "            base-=prob*math.log2(prob)\n",
        "    return base\n",
        "    \n",
        "def split_segment(segment,index,key):\n",
        "    segment1=[]\n",
        "    segment2=[]\n",
        "    for i in range(len(segment)):\n",
        "        if segment[i][index]<key:\n",
        "            segment1.append(segment[i])\n",
        "        else:\n",
        "            segment2.append(segment[i])\n",
        "    # print(index,key)\n",
        "    return segment1,segment2\n",
        "\n",
        "def calc_gain(segment,index,key):\n",
        "    segment1,segment2=split_segment(segment,index,key)\n",
        "    entropy1=entropy(segment1)\n",
        "    entropy2=entropy(segment2)\n",
        "    gain=base_entropy-\\\n",
        "        len(segment1)/len(segment)*entropy1-\\\n",
        "        len(segment2)/len(segment)*entropy2\n",
        "    return gain"
      ],
      "execution_count": null,
      "outputs": []
    },
    {
      "cell_type": "code",
      "metadata": {
        "id": "7SazT0m-nDLY"
      },
      "source": [
        "class TreeNode:\n",
        "    def __init__(self,segment):\n",
        "        self.child=[]\n",
        "        self.parent=None\n",
        "        self.segment=segment\n",
        "        self.entropy=entropy(self.segment)\n",
        "\n",
        "    def __repr__(self) -> str:\n",
        "        return f'{len(self.segment)},{self.entropy:.02f}'\n"
      ],
      "execution_count": null,
      "outputs": []
    },
    {
      "cell_type": "code",
      "metadata": {
        "id": "sxeJYtOMkQTG"
      },
      "source": [
        "#this is where I put decision tree main algorithm\n",
        "root=TreeNode(data)"
      ],
      "execution_count": null,
      "outputs": []
    },
    {
      "cell_type": "code",
      "metadata": {
        "id": "pFLSGlb7gq99"
      },
      "source": [
        "cache=[root]\n",
        "limit=10\n",
        "step=0\n",
        "while cache and step<limit:\n",
        "    \n",
        "    new_cache=[]\n",
        "    for node in cache:\n",
        "        if node.entropy!=0:\n",
        "            base_entropy=node.entropy\n",
        "            segment=node.segment\n",
        "            max_gain=0\n",
        "            for index in range(len(feature_names)):\n",
        "                keys=list(set([segment[i][index] for i in range(len(segment))]))\n",
        "                keys.sort()\n",
        "                if len(keys)==2:\n",
        "                    key=keys[-1]\n",
        "                    gain=calc_gain(segment,index,key)\n",
        "                    if gain>max_gain:\n",
        "                        split_index=index\n",
        "                        split_key=key\n",
        "                        max_gain=gain\n",
        "                else:\n",
        "                    for key in keys[1:-1]:\n",
        "                        gain=calc_gain(segment,index,key)\n",
        "                        if gain>max_gain:\n",
        "                            split_index=index\n",
        "                            split_key=key\n",
        "                            max_gain=gain\n",
        "\n",
        "            segment1,segment2=split_segment(segment,split_index,split_key)\n",
        "            node1=TreeNode(segment1)\n",
        "            node2=TreeNode(segment2)\n",
        "            node.child+=[node1,node2]\n",
        "            new_cache+=[node1,node2]\n",
        "            # print(key,keys)\n",
        "            # print(len(segment1),len(segment2))\n",
        "            # print(node1,node2)\n",
        "    cache=new_cache\n",
        "    step+=1\n",
        "\n",
        "\n",
        "\n",
        "\n",
        "\n",
        "\n",
        "\n",
        "\n"
      ],
      "execution_count": null,
      "outputs": []
    },
    {
      "cell_type": "code",
      "metadata": {
        "colab": {
          "base_uri": "https://localhost:8080/"
        },
        "id": "5z-GE6IGzw2_",
        "outputId": "b1f25369-5486-4aca-a9eb-ac99b0f7cd5a"
      },
      "source": [
        "cache=[root]\n",
        "while cache:\n",
        "    new_cache=[]\n",
        "    for node in cache:\n",
        "        print(node,end='|')\n",
        "        new_cache+=node.child\n",
        "    cache=new_cache\n",
        "    print('')\n"
      ],
      "execution_count": null,
      "outputs": [
        {
          "output_type": "stream",
          "name": "stdout",
          "text": [
            "150,1.58|\n",
            "50,0.00|100,1.00|\n",
            "54,0.45|46,0.15|\n",
            "48,0.15|6,0.92|3,0.92|43,0.00|\n",
            "2,1.00|46,0.00|3,0.00|3,0.92|1,0.00|2,0.00|\n",
            "1,0.00|1,0.00|1,0.00|2,1.00|\n",
            "1,0.00|1,0.00|\n"
          ]
        }
      ]
    },
    {
      "cell_type": "code",
      "metadata": {
        "id": "ndN_h_Jnz0kw"
      },
      "source": [
        ""
      ],
      "execution_count": null,
      "outputs": []
    }
  ]
}